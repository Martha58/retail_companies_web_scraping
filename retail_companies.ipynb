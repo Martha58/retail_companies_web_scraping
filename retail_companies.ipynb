{
 "cells": [
  {
   "cell_type": "code",
   "execution_count": 1,
   "id": "df14e156",
   "metadata": {},
   "outputs": [],
   "source": [
    "from selenium import webdriver\n",
    "from selenium.webdriver.common.by import By"
   ]
  },
  {
   "cell_type": "code",
   "execution_count": 2,
   "id": "0dc8685f",
   "metadata": {},
   "outputs": [],
   "source": [
    "url = 'https://www.f6s.com/companies/retail/nigeria/co'\n",
    "driver = webdriver.Edge()\n",
    "driver.get(url)"
   ]
  },
  {
   "cell_type": "code",
   "execution_count": 4,
   "id": "4be7c524",
   "metadata": {},
   "outputs": [],
   "source": [
    "main_container = driver.find_element(By.CLASS_NAME, \"companies\")\n",
    "containers = main_container.find_elements(By.CLASS_NAME, \"b16.company-block\")"
   ]
  },
  {
   "cell_type": "code",
   "execution_count": 39,
   "id": "f48c3a1b",
   "metadata": {},
   "outputs": [],
   "source": [
    "for container in containers:\n",
    "    name = container.find_element(By.CLASS_NAME, \"company-entry-title.break-word.b21\").text\n",
    "    description = container.find_element(By.CLASS_NAME, \"profile-description.mt24.mb24\").text\n",
    "    # print(container.text)\n",
    "    with open('retail_companies.txt', 'a', encoding=\"utf-8\") as file:\n",
    "        file.write(container.text)"
   ]
  },
  {
   "cell_type": "code",
   "execution_count": null,
   "id": "07cc34bc",
   "metadata": {},
   "outputs": [],
   "source": []
  },
  {
   "cell_type": "code",
   "execution_count": null,
   "id": "349bd68a",
   "metadata": {},
   "outputs": [],
   "source": []
  }
 ],
 "metadata": {
  "kernelspec": {
   "display_name": "Python 3 (ipykernel)",
   "language": "python",
   "name": "python3"
  },
  "language_info": {
   "codemirror_mode": {
    "name": "ipython",
    "version": 3
   },
   "file_extension": ".py",
   "mimetype": "text/x-python",
   "name": "python",
   "nbconvert_exporter": "python",
   "pygments_lexer": "ipython3",
   "version": "3.11.7"
  }
 },
 "nbformat": 4,
 "nbformat_minor": 5
}
